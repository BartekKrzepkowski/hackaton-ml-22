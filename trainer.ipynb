{
 "cells": [
  {
   "cell_type": "code",
   "execution_count": null,
   "id": "471368e9-7432-45a3-a619-d3d1cac01760",
   "metadata": {},
   "outputs": [],
   "source": [
    "%load_ext autoreload\n",
    "%autoreload 2\n",
    "%load_ext tensorboard"
   ]
  },
  {
   "cell_type": "code",
   "execution_count": null,
   "id": "a8b39700-4878-449e-a45c-980bb39c7c28",
   "metadata": {},
   "outputs": [],
   "source": [
    "import torch\n",
    "from torch import nn\n",
    "from tqdm.auto import tqdm\n",
    "from tensorboard_pytorch import TensorboardPyTorch\n",
    "\n",
    "device = torch.device(\"cuda\" if torch.cuda.is_available() else \"cpu\")"
   ]
  },
  {
   "cell_type": "code",
   "execution_count": 28,
   "id": "28611b7b-d12b-4942-8b2a-b7d626a28a84",
   "metadata": {
    "tags": []
   },
   "outputs": [],
   "source": [
    "class Trainer(object):\n",
    "    def __init__(self, model, loaders, criterion, optim, scheduler=None, device='cuda'):\n",
    "        self.model = model\n",
    "        self.loaders = loaders\n",
    "        self.criterion = criterion # MLM\n",
    "        self.optim = optim\n",
    "        self.scheduler = scheduler\n",
    "        self.n_logger = None # neptune logger\n",
    "        self.t_logger = None # tensorflow logger\n",
    "        self.device = device\n",
    "        \n",
    "    def run_exp(self, epoch_start, epoch_end, exp_name, save_interval, random_seed=42):\n",
    "        save_path = self.at_exp_start(exp_name, random_seed)\n",
    "        for epoch in tqdm(range(epoch_start, epoch_end)):\n",
    "            self.model.train()\n",
    "            run_epoch(epoch, save_path, save_interval, phase='train')\n",
    "            self.model.eval()\n",
    "            with torch.no_grad():\n",
    "                run_epoch(epoch, save_path, save_interval, phase='test')\n",
    "            if self.scheduler is not None: \n",
    "                self.scheduler.step()\n",
    "                \n",
    "    def at_exp_start(self, exp_name, random_seed):\n",
    "        self.manual_seed(random_seed)\n",
    "        date = datetime.datetime.now().strftime(\"%Y-%m-%d_%H-%M-%S\")\n",
    "        base_path = os.path.join(os.getcwd(), f'exps/{exp_name}/{date}')\n",
    "        save_path = f'{base_path}/checkpoints'\n",
    "        os.makedirs(save_path)\n",
    "        self.t_logger = TensorboardPyTorch(f'{base_path}/tensorboard', self.device)\n",
    "        return save_path\n",
    "\n",
    "    def run_epoch(self, epoch, save_path, save_interval, phase):\n",
    "        running_acc = 0.0\n",
    "        running_loss = 0.0\n",
    "        loader_size = len(self.loaders[phase])\n",
    "        for i, (x_true, y_true) in enumerate(self.loaders[phase]):\n",
    "            x_true, y_true = x_true.to(self.device), y_true.to(self.device)\n",
    "            y_pred = self.model(x_true)\n",
    "            loss = self.criterion(y_pred, y_true)\n",
    "            if 'train' in phase:\n",
    "                self.optim.zero_grad()\n",
    "                loss.backward()\n",
    "                self.optim.step()\n",
    "                \n",
    "            batch_acc = (torch.argmax(y_pred.detach.data, dim=1) == y_true).mean().item()\n",
    "            batch_loss = loss.item()\n",
    "            self.t_logger.log_scalar(f'StepAcc/{phase}', round(batch_acc, 4), i + 1 + epoch * loader_size)\n",
    "            self.t_logger.log_scalar(f'StepLoss/{phase}', round(batch_loss, 4), i + 1 + epoch * loader_size)\n",
    "            running_acc += batch_acc\n",
    "            running_loss += batch_loss\n",
    "            # loggers\n",
    "            if (i + 1) % 10 == 0:\n",
    "                tmp_acc = running_acc / 10\n",
    "                tmp_loss = running_loss / 10\n",
    "                self.t_logger.log_scalar(f'RunningAcc/{phase}', round(tmp_acc, 4), i + 1 + epoch * loader_size)\n",
    "                self.t_logger.log_scalar(f'RunningLoss/{phase}', round(tmp_loss, 4), i + 1 + epoch * loader_size)\n",
    "                running_acc = 0.0\n",
    "                running_loss = 0.0\n",
    "                \n",
    "            if (i + 1) % save_interval == 0:\n",
    "                self.save_net(save_path)  \n",
    "                \n",
    "    def save_net(self, path):\n",
    "        torch.save(self.model.state_dict(), path)\n",
    "        \n",
    "    def manual_seed(self, random_seed):\n",
    "        import numpy as np\n",
    "        torch.manual_seed(random_seed)\n",
    "        torch.cuda.manual_seed(random_seed)\n",
    "        # torch.backends.cudnn.deterministic = True\n",
    "        # torch.backends.cudnn.benchmark = False\n",
    "        np.random.seed(random_seed)"
   ]
  },
  {
   "cell_type": "code",
   "execution_count": null,
   "id": "8a423318-5355-42da-a96e-739fbc3683f4",
   "metadata": {},
   "outputs": [],
   "source": [
    "class Resnet50_ft(nn.Module):\n",
    "    def __init__(self, ptr_model):\n",
    "        super().__init__()\n",
    "        self.ptr_model = ptr_model\n",
    "        self.ptr_model.fc = Linear(in_features=2048, out_features=28, bias=True)\n",
    "        \n",
    "    def forward(self, x):\n",
    "        x = self.ptr_model(x)\n",
    "        return x\n",
    "        "
   ]
  },
  {
   "cell_type": "code",
   "execution_count": 26,
   "id": "ea565132-c3b9-4bf3-bb6b-dcfce5a148a7",
   "metadata": {},
   "outputs": [],
   "source": [
    "# create model\n",
    "from torchvision import models\n",
    "ptr_model = models.resnet50(pretrained=False)\n",
    "ptr_model.load_state_dict(torch.load('resnet50-0676ba61.pth'))\n",
    "for name, param in ptr_model.named_parameters():\n",
    "    if 'fc' not in name:\n",
    "        param.requires_grad = False"
   ]
  },
  {
   "cell_type": "code",
   "execution_count": 29,
   "id": "7fcc39f3-6372-417a-aa62-4a9eb8f2a8ae",
   "metadata": {},
   "outputs": [],
   "source": [
    "# create loaders\n",
    "from torchvision.datasets import ImageFolder\n",
    "train_dataset = ImageFolder(train_root, train_transform)\n",
    "test_dataset = ImageFolder(test_root, test_transform)\n",
    "\n",
    "from torch.utils.data import DataLoader\n",
    "train_loader = DataLoader(train_dataset, batch_size=batch_size, shuffle=True, pin_memory=True, num_workers=4)\n",
    "test_loader = DataLoader(test_dataset, batch_size=batch_size, shuffle=True, pin_memory=True, num_workers=4)\n",
    "\n",
    "loaders = {\n",
    "    'train': train_loader,\n",
    "    'test': test_loader\n",
    "}"
   ]
  },
  {
   "cell_type": "code",
   "execution_count": null,
   "id": "5367be0a-428f-47ba-9c3a-c6269a857597",
   "metadata": {},
   "outputs": [],
   "source": [
    "criterion = nn.CrossEntropyLoss()\n",
    "optim = torch.optim.AdamW(filter(lambda p: p.requires_grad, ptr_model.parameters()), lr=1e-2)\n",
    "trainer = Trainer(ptr_model, loaders, criterion, optim, device=device)"
   ]
  },
  {
   "cell_type": "code",
   "execution_count": null,
   "id": "48df39cd-258c-4026-b3fd-efa43f8c55be",
   "metadata": {},
   "outputs": [],
   "source": [
    "%tensorboard --logdir=data"
   ]
  },
  {
   "cell_type": "code",
   "execution_count": null,
   "id": "de753695-4071-4dc2-bd3c-e16bf7661994",
   "metadata": {},
   "outputs": [],
   "source": [
    "# run experiment\n",
    "trainer.run_exp(epoch_start=0, epoch_end=5, exp_name='resnet50', save_interval=5)"
   ]
  }
 ],
 "metadata": {
  "kernelspec": {
   "display_name": "tldl",
   "language": "python",
   "name": "tldl"
  },
  "language_info": {
   "codemirror_mode": {
    "name": "ipython",
    "version": 3
   },
   "file_extension": ".py",
   "mimetype": "text/x-python",
   "name": "python",
   "nbconvert_exporter": "python",
   "pygments_lexer": "ipython3",
   "version": "3.8.10"
  }
 },
 "nbformat": 4,
 "nbformat_minor": 5
}
